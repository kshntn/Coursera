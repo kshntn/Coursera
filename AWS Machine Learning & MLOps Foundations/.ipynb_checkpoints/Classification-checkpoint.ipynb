{
 "cells": [
  {
   "cell_type": "markdown",
   "id": "256f828f-746e-4a59-ab8e-1aa4dcdeb52a",
   "metadata": {},
   "source": [
    "### Problem Statement\n",
    "Given set of measurements for Iris flower, including sepal length, sepal width, petal length and petal width, predict the species of Iris (Setosa, Versicolor or Virginica) to which the flower belongs?"
   ]
  },
  {
   "cell_type": "markdown",
   "id": "0fa44872-9978-4586-a2fb-cbf2c6bd6026",
   "metadata": {},
   "source": [
    "1. Data Collection and Preparation\n",
    "    - Load the iris dataset from sklearn library\n",
    "    - Validate the data for any errors\n",
    "    - Exploratory "
   ]
  },
  {
   "cell_type": "code",
   "execution_count": null,
   "id": "602d6555-c10c-4f8a-a780-34d44f1f6dc2",
   "metadata": {},
   "outputs": [],
   "source": []
  }
 ],
 "metadata": {
  "kernelspec": {
   "display_name": "Python 3 (ipykernel)",
   "language": "python",
   "name": "python3"
  },
  "language_info": {
   "codemirror_mode": {
    "name": "ipython",
    "version": 3
   },
   "file_extension": ".py",
   "mimetype": "text/x-python",
   "name": "python",
   "nbconvert_exporter": "python",
   "pygments_lexer": "ipython3",
   "version": "3.10.0"
  },
  "widgets": {
   "application/vnd.jupyter.widget-state+json": {
    "state": {},
    "version_major": 2,
    "version_minor": 0
   }
  }
 },
 "nbformat": 4,
 "nbformat_minor": 5
}
